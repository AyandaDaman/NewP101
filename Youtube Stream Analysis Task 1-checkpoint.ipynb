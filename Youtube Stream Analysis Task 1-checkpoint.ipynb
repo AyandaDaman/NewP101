{
 "cells": [
  {
   "cell_type": "markdown",
   "id": "910c9b5b-cd55-4cac-b76b-5cc8fb2334a0",
   "metadata": {},
   "source": [
    "DATA PREPROCESSING"
   ]
  },
  {
   "cell_type": "code",
   "execution_count": null,
   "id": "fb409efd-9728-4948-8bb1-add21e9df222",
   "metadata": {},
   "outputs": [],
   "source": [
    "#Analysing the Data"
   ]
  },
  {
   "cell_type": "code",
   "execution_count": 5,
   "id": "cdcf4b76-ec8e-4ef1-84bf-a2aaef208d46",
   "metadata": {},
   "outputs": [],
   "source": [
    "import pandas as pd"
   ]
  },
  {
   "cell_type": "code",
   "execution_count": null,
   "id": "feeba16d-584d-406c-9035-7b95f40430ff",
   "metadata": {},
   "outputs": [],
   "source": [
    "import numpy as np"
   ]
  },
  {
   "cell_type": "code",
   "execution_count": null,
   "id": "7f9e82b4-5848-4bb6-8a90-9fff7b9f217a",
   "metadata": {},
   "outputs": [],
   "source": [
    "import matplotlib.pyplot as plt"
   ]
  },
  {
   "cell_type": "code",
   "execution_count": null,
   "id": "d244e230-c338-46b3-9d54-3dad304eb082",
   "metadata": {},
   "outputs": [],
   "source": [
    "import seaborn as sns"
   ]
  },
  {
   "cell_type": "code",
   "execution_count": null,
   "id": "e221d280-2989-4e83-932c-4bbee114aece",
   "metadata": {},
   "outputs": [],
   "source": [
    "from scipy import stats"
   ]
  },
  {
   "cell_type": "code",
   "execution_count": null,
   "id": "ba2e0080-9577-4189-aeba-aca8b1196b13",
   "metadata": {},
   "outputs": [],
   "source": [
    "import plotly.express as px"
   ]
  },
  {
   "cell_type": "code",
   "execution_count": 15,
   "id": "393943b1-b14b-40a3-ac0c-0011c8a02cc9",
   "metadata": {},
   "outputs": [],
   "source": []
  },
  {
   "cell_type": "code",
   "execution_count": 19,
   "id": "f06a7d8d-0d4b-4378-bc61-9bcc0d64481c",
   "metadata": {},
   "outputs": [],
   "source": [
    "STEP 2 #READ THE DATA"
   ]
  },
  {
   "cell_type": "code",
   "execution_count": null,
   "id": "70d9cfc7-7980-4e4d-a827-a62cfa78adb1",
   "metadata": {},
   "outputs": [],
   "source": [
    "#import CSV"
   ]
  },
  {
   "cell_type": "code",
   "execution_count": 8,
   "id": "84449d1e-6a8f-4a79-bb77-aae9198eeff0",
   "metadata": {},
   "outputs": [],
   "source": [
    "import pandas as pd"
   ]
  },
  {
   "cell_type": "code",
   "execution_count": 9,
   "id": "81e1e5ed-b01d-47c5-ad2b-15333dc5ddfa",
   "metadata": {},
   "outputs": [],
   "source": [
    "import pandas as pd"
   ]
  },
  {
   "cell_type": "code",
   "execution_count": 10,
   "id": "cce9441c-d63d-4126-8806-a4ef1f2365d4",
   "metadata": {},
   "outputs": [],
   "source": [
    "df = pd.read_csv(r\"C:\\Users\\Perci Daman\\Downloads\\youtubers_df.csv\")"
   ]
  },
  {
   "cell_type": "code",
   "execution_count": 21,
   "id": "beb1574c-870b-49f8-81cb-0d4ab7d8b571",
   "metadata": {},
   "outputs": [
    {
     "data": {
      "text/html": [
       "<div>\n",
       "<style scoped>\n",
       "    .dataframe tbody tr th:only-of-type {\n",
       "        vertical-align: middle;\n",
       "    }\n",
       "\n",
       "    .dataframe tbody tr th {\n",
       "        vertical-align: top;\n",
       "    }\n",
       "\n",
       "    .dataframe thead th {\n",
       "        text-align: right;\n",
       "    }\n",
       "</style>\n",
       "<table border=\"1\" class=\"dataframe\">\n",
       "  <thead>\n",
       "    <tr style=\"text-align: right;\">\n",
       "      <th></th>\n",
       "      <th>Rank</th>\n",
       "      <th>Username</th>\n",
       "      <th>Categories</th>\n",
       "      <th>Suscribers</th>\n",
       "      <th>Country</th>\n",
       "      <th>Visits</th>\n",
       "      <th>Likes</th>\n",
       "      <th>Comments</th>\n",
       "      <th>Links</th>\n",
       "    </tr>\n",
       "  </thead>\n",
       "  <tbody>\n",
       "    <tr>\n",
       "      <th>0</th>\n",
       "      <td>1</td>\n",
       "      <td>tseries</td>\n",
       "      <td>Música y baile</td>\n",
       "      <td>249500000.0</td>\n",
       "      <td>India</td>\n",
       "      <td>86200.0</td>\n",
       "      <td>2700.0</td>\n",
       "      <td>78.0</td>\n",
       "      <td>http://youtube.com/channel/UCq-Fj5jknLsUf-MWSy...</td>\n",
       "    </tr>\n",
       "    <tr>\n",
       "      <th>1</th>\n",
       "      <td>2</td>\n",
       "      <td>MrBeast</td>\n",
       "      <td>Videojuegos, Humor</td>\n",
       "      <td>183500000.0</td>\n",
       "      <td>Estados Unidos</td>\n",
       "      <td>117400000.0</td>\n",
       "      <td>5300000.0</td>\n",
       "      <td>18500.0</td>\n",
       "      <td>http://youtube.com/channel/UCX6OQ3DkcsbYNE6H8u...</td>\n",
       "    </tr>\n",
       "    <tr>\n",
       "      <th>2</th>\n",
       "      <td>3</td>\n",
       "      <td>CoComelon</td>\n",
       "      <td>Educación</td>\n",
       "      <td>165500000.0</td>\n",
       "      <td>Unknown</td>\n",
       "      <td>7000000.0</td>\n",
       "      <td>24700.0</td>\n",
       "      <td>0.0</td>\n",
       "      <td>http://youtube.com/channel/UCbCmjCuTUZos6Inko4...</td>\n",
       "    </tr>\n",
       "    <tr>\n",
       "      <th>3</th>\n",
       "      <td>4</td>\n",
       "      <td>SETIndia</td>\n",
       "      <td>NaN</td>\n",
       "      <td>162600000.0</td>\n",
       "      <td>India</td>\n",
       "      <td>15600.0</td>\n",
       "      <td>166.0</td>\n",
       "      <td>9.0</td>\n",
       "      <td>http://youtube.com/channel/UCpEhnqL0y41EpW2TvW...</td>\n",
       "    </tr>\n",
       "    <tr>\n",
       "      <th>4</th>\n",
       "      <td>5</td>\n",
       "      <td>KidsDianaShow</td>\n",
       "      <td>Animación, Juguetes</td>\n",
       "      <td>113500000.0</td>\n",
       "      <td>Unknown</td>\n",
       "      <td>3900000.0</td>\n",
       "      <td>12400.0</td>\n",
       "      <td>0.0</td>\n",
       "      <td>http://youtube.com/channel/UCk8GzjMOrta8yxDcKf...</td>\n",
       "    </tr>\n",
       "    <tr>\n",
       "      <th>...</th>\n",
       "      <td>...</td>\n",
       "      <td>...</td>\n",
       "      <td>...</td>\n",
       "      <td>...</td>\n",
       "      <td>...</td>\n",
       "      <td>...</td>\n",
       "      <td>...</td>\n",
       "      <td>...</td>\n",
       "      <td>...</td>\n",
       "    </tr>\n",
       "    <tr>\n",
       "      <th>995</th>\n",
       "      <td>996</td>\n",
       "      <td>hamzymukbang</td>\n",
       "      <td>NaN</td>\n",
       "      <td>11700000.0</td>\n",
       "      <td>Estados Unidos</td>\n",
       "      <td>397400.0</td>\n",
       "      <td>14000.0</td>\n",
       "      <td>124.0</td>\n",
       "      <td>http://youtube.com/channel/UCPKNKldggioffXPkSm...</td>\n",
       "    </tr>\n",
       "    <tr>\n",
       "      <th>996</th>\n",
       "      <td>997</td>\n",
       "      <td>Adaahqueen</td>\n",
       "      <td>NaN</td>\n",
       "      <td>11700000.0</td>\n",
       "      <td>India</td>\n",
       "      <td>1100000.0</td>\n",
       "      <td>92500.0</td>\n",
       "      <td>164.0</td>\n",
       "      <td>http://youtube.com/channel/UCk3fFpqI5kDMf__mUP...</td>\n",
       "    </tr>\n",
       "    <tr>\n",
       "      <th>997</th>\n",
       "      <td>998</td>\n",
       "      <td>LittleAngelIndonesia</td>\n",
       "      <td>Música y baile</td>\n",
       "      <td>11700000.0</td>\n",
       "      <td>Unknown</td>\n",
       "      <td>211400.0</td>\n",
       "      <td>745.0</td>\n",
       "      <td>0.0</td>\n",
       "      <td>http://youtube.com/channel/UCdrHrQf0o0TO8YDntX...</td>\n",
       "    </tr>\n",
       "    <tr>\n",
       "      <th>998</th>\n",
       "      <td>999</td>\n",
       "      <td>PenMultiplex</td>\n",
       "      <td>NaN</td>\n",
       "      <td>11700000.0</td>\n",
       "      <td>India</td>\n",
       "      <td>14000.0</td>\n",
       "      <td>81.0</td>\n",
       "      <td>1.0</td>\n",
       "      <td>http://youtube.com/channel/UCObyBrdrtQ20BU9PxH...</td>\n",
       "    </tr>\n",
       "    <tr>\n",
       "      <th>999</th>\n",
       "      <td>1000</td>\n",
       "      <td>OneindiaHindi</td>\n",
       "      <td>Noticias y Política</td>\n",
       "      <td>11700000.0</td>\n",
       "      <td>India</td>\n",
       "      <td>2200.0</td>\n",
       "      <td>31.0</td>\n",
       "      <td>1.0</td>\n",
       "      <td>http://youtube.com/channel/UCOjgc1p2hJ4GZi6pQQ...</td>\n",
       "    </tr>\n",
       "  </tbody>\n",
       "</table>\n",
       "<p>1000 rows × 9 columns</p>\n",
       "</div>"
      ],
      "text/plain": [
       "     Rank              Username           Categories   Suscribers  \\\n",
       "0       1               tseries       Música y baile  249500000.0   \n",
       "1       2               MrBeast   Videojuegos, Humor  183500000.0   \n",
       "2       3             CoComelon            Educación  165500000.0   \n",
       "3       4              SETIndia                  NaN  162600000.0   \n",
       "4       5         KidsDianaShow  Animación, Juguetes  113500000.0   \n",
       "..    ...                   ...                  ...          ...   \n",
       "995   996          hamzymukbang                  NaN   11700000.0   \n",
       "996   997            Adaahqueen                  NaN   11700000.0   \n",
       "997   998  LittleAngelIndonesia       Música y baile   11700000.0   \n",
       "998   999          PenMultiplex                  NaN   11700000.0   \n",
       "999  1000         OneindiaHindi  Noticias y Política   11700000.0   \n",
       "\n",
       "            Country       Visits      Likes  Comments  \\\n",
       "0             India      86200.0     2700.0      78.0   \n",
       "1    Estados Unidos  117400000.0  5300000.0   18500.0   \n",
       "2           Unknown    7000000.0    24700.0       0.0   \n",
       "3             India      15600.0      166.0       9.0   \n",
       "4           Unknown    3900000.0    12400.0       0.0   \n",
       "..              ...          ...        ...       ...   \n",
       "995  Estados Unidos     397400.0    14000.0     124.0   \n",
       "996           India    1100000.0    92500.0     164.0   \n",
       "997         Unknown     211400.0      745.0       0.0   \n",
       "998           India      14000.0       81.0       1.0   \n",
       "999           India       2200.0       31.0       1.0   \n",
       "\n",
       "                                                 Links  \n",
       "0    http://youtube.com/channel/UCq-Fj5jknLsUf-MWSy...  \n",
       "1    http://youtube.com/channel/UCX6OQ3DkcsbYNE6H8u...  \n",
       "2    http://youtube.com/channel/UCbCmjCuTUZos6Inko4...  \n",
       "3    http://youtube.com/channel/UCpEhnqL0y41EpW2TvW...  \n",
       "4    http://youtube.com/channel/UCk8GzjMOrta8yxDcKf...  \n",
       "..                                                 ...  \n",
       "995  http://youtube.com/channel/UCPKNKldggioffXPkSm...  \n",
       "996  http://youtube.com/channel/UCk3fFpqI5kDMf__mUP...  \n",
       "997  http://youtube.com/channel/UCdrHrQf0o0TO8YDntX...  \n",
       "998  http://youtube.com/channel/UCObyBrdrtQ20BU9PxH...  \n",
       "999  http://youtube.com/channel/UCOjgc1p2hJ4GZi6pQQ...  \n",
       "\n",
       "[1000 rows x 9 columns]"
      ]
     },
     "execution_count": 21,
     "metadata": {},
     "output_type": "execute_result"
    }
   ],
   "source": [
    "df"
   ]
  },
  {
   "cell_type": "code",
   "execution_count": 9,
   "id": "db465541-b27f-48e1-94f2-3d4b07c03534",
   "metadata": {},
   "outputs": [
    {
     "data": {
      "text/html": [
       "<div>\n",
       "<style scoped>\n",
       "    .dataframe tbody tr th:only-of-type {\n",
       "        vertical-align: middle;\n",
       "    }\n",
       "\n",
       "    .dataframe tbody tr th {\n",
       "        vertical-align: top;\n",
       "    }\n",
       "\n",
       "    .dataframe thead th {\n",
       "        text-align: right;\n",
       "    }\n",
       "</style>\n",
       "<table border=\"1\" class=\"dataframe\">\n",
       "  <thead>\n",
       "    <tr style=\"text-align: right;\">\n",
       "      <th></th>\n",
       "      <th>Rank</th>\n",
       "      <th>Username</th>\n",
       "      <th>Categories</th>\n",
       "      <th>Suscribers</th>\n",
       "      <th>Country</th>\n",
       "      <th>Visits</th>\n",
       "      <th>Likes</th>\n",
       "      <th>Comments</th>\n",
       "      <th>Links</th>\n",
       "    </tr>\n",
       "  </thead>\n",
       "  <tbody>\n",
       "    <tr>\n",
       "      <th>0</th>\n",
       "      <td>1</td>\n",
       "      <td>tseries</td>\n",
       "      <td>Música y baile</td>\n",
       "      <td>249500000.0</td>\n",
       "      <td>India</td>\n",
       "      <td>86200.0</td>\n",
       "      <td>2700.0</td>\n",
       "      <td>78.0</td>\n",
       "      <td>http://youtube.com/channel/UCq-Fj5jknLsUf-MWSy...</td>\n",
       "    </tr>\n",
       "    <tr>\n",
       "      <th>1</th>\n",
       "      <td>2</td>\n",
       "      <td>MrBeast</td>\n",
       "      <td>Videojuegos, Humor</td>\n",
       "      <td>183500000.0</td>\n",
       "      <td>Estados Unidos</td>\n",
       "      <td>117400000.0</td>\n",
       "      <td>5300000.0</td>\n",
       "      <td>18500.0</td>\n",
       "      <td>http://youtube.com/channel/UCX6OQ3DkcsbYNE6H8u...</td>\n",
       "    </tr>\n",
       "    <tr>\n",
       "      <th>2</th>\n",
       "      <td>3</td>\n",
       "      <td>CoComelon</td>\n",
       "      <td>Educación</td>\n",
       "      <td>165500000.0</td>\n",
       "      <td>Unknown</td>\n",
       "      <td>7000000.0</td>\n",
       "      <td>24700.0</td>\n",
       "      <td>0.0</td>\n",
       "      <td>http://youtube.com/channel/UCbCmjCuTUZos6Inko4...</td>\n",
       "    </tr>\n",
       "    <tr>\n",
       "      <th>3</th>\n",
       "      <td>4</td>\n",
       "      <td>SETIndia</td>\n",
       "      <td>NaN</td>\n",
       "      <td>162600000.0</td>\n",
       "      <td>India</td>\n",
       "      <td>15600.0</td>\n",
       "      <td>166.0</td>\n",
       "      <td>9.0</td>\n",
       "      <td>http://youtube.com/channel/UCpEhnqL0y41EpW2TvW...</td>\n",
       "    </tr>\n",
       "    <tr>\n",
       "      <th>4</th>\n",
       "      <td>5</td>\n",
       "      <td>KidsDianaShow</td>\n",
       "      <td>Animación, Juguetes</td>\n",
       "      <td>113500000.0</td>\n",
       "      <td>Unknown</td>\n",
       "      <td>3900000.0</td>\n",
       "      <td>12400.0</td>\n",
       "      <td>0.0</td>\n",
       "      <td>http://youtube.com/channel/UCk8GzjMOrta8yxDcKf...</td>\n",
       "    </tr>\n",
       "  </tbody>\n",
       "</table>\n",
       "</div>"
      ],
      "text/plain": [
       "   Rank       Username           Categories   Suscribers         Country  \\\n",
       "0     1        tseries       Música y baile  249500000.0           India   \n",
       "1     2        MrBeast   Videojuegos, Humor  183500000.0  Estados Unidos   \n",
       "2     3      CoComelon            Educación  165500000.0         Unknown   \n",
       "3     4       SETIndia                  NaN  162600000.0           India   \n",
       "4     5  KidsDianaShow  Animación, Juguetes  113500000.0         Unknown   \n",
       "\n",
       "        Visits      Likes  Comments  \\\n",
       "0      86200.0     2700.0      78.0   \n",
       "1  117400000.0  5300000.0   18500.0   \n",
       "2    7000000.0    24700.0       0.0   \n",
       "3      15600.0      166.0       9.0   \n",
       "4    3900000.0    12400.0       0.0   \n",
       "\n",
       "                                               Links  \n",
       "0  http://youtube.com/channel/UCq-Fj5jknLsUf-MWSy...  \n",
       "1  http://youtube.com/channel/UCX6OQ3DkcsbYNE6H8u...  \n",
       "2  http://youtube.com/channel/UCbCmjCuTUZos6Inko4...  \n",
       "3  http://youtube.com/channel/UCpEhnqL0y41EpW2TvW...  \n",
       "4  http://youtube.com/channel/UCk8GzjMOrta8yxDcKf...  "
      ]
     },
     "execution_count": 9,
     "metadata": {},
     "output_type": "execute_result"
    }
   ],
   "source": [
    "df.head()"
   ]
  },
  {
   "cell_type": "code",
   "execution_count": null,
   "id": "d2f8576d-4513-4782-899c-be468e56c1c1",
   "metadata": {},
   "outputs": [],
   "source": [
    "#Data tail"
   ]
  },
  {
   "cell_type": "code",
   "execution_count": 10,
   "id": "717b4217-23f6-4dc3-9df6-9d9a39840f99",
   "metadata": {},
   "outputs": [
    {
     "data": {
      "text/html": [
       "<div>\n",
       "<style scoped>\n",
       "    .dataframe tbody tr th:only-of-type {\n",
       "        vertical-align: middle;\n",
       "    }\n",
       "\n",
       "    .dataframe tbody tr th {\n",
       "        vertical-align: top;\n",
       "    }\n",
       "\n",
       "    .dataframe thead th {\n",
       "        text-align: right;\n",
       "    }\n",
       "</style>\n",
       "<table border=\"1\" class=\"dataframe\">\n",
       "  <thead>\n",
       "    <tr style=\"text-align: right;\">\n",
       "      <th></th>\n",
       "      <th>Rank</th>\n",
       "      <th>Username</th>\n",
       "      <th>Categories</th>\n",
       "      <th>Suscribers</th>\n",
       "      <th>Country</th>\n",
       "      <th>Visits</th>\n",
       "      <th>Likes</th>\n",
       "      <th>Comments</th>\n",
       "      <th>Links</th>\n",
       "    </tr>\n",
       "  </thead>\n",
       "  <tbody>\n",
       "    <tr>\n",
       "      <th>995</th>\n",
       "      <td>996</td>\n",
       "      <td>hamzymukbang</td>\n",
       "      <td>NaN</td>\n",
       "      <td>11700000.0</td>\n",
       "      <td>Estados Unidos</td>\n",
       "      <td>397400.0</td>\n",
       "      <td>14000.0</td>\n",
       "      <td>124.0</td>\n",
       "      <td>http://youtube.com/channel/UCPKNKldggioffXPkSm...</td>\n",
       "    </tr>\n",
       "    <tr>\n",
       "      <th>996</th>\n",
       "      <td>997</td>\n",
       "      <td>Adaahqueen</td>\n",
       "      <td>NaN</td>\n",
       "      <td>11700000.0</td>\n",
       "      <td>India</td>\n",
       "      <td>1100000.0</td>\n",
       "      <td>92500.0</td>\n",
       "      <td>164.0</td>\n",
       "      <td>http://youtube.com/channel/UCk3fFpqI5kDMf__mUP...</td>\n",
       "    </tr>\n",
       "    <tr>\n",
       "      <th>997</th>\n",
       "      <td>998</td>\n",
       "      <td>LittleAngelIndonesia</td>\n",
       "      <td>Música y baile</td>\n",
       "      <td>11700000.0</td>\n",
       "      <td>Unknown</td>\n",
       "      <td>211400.0</td>\n",
       "      <td>745.0</td>\n",
       "      <td>0.0</td>\n",
       "      <td>http://youtube.com/channel/UCdrHrQf0o0TO8YDntX...</td>\n",
       "    </tr>\n",
       "    <tr>\n",
       "      <th>998</th>\n",
       "      <td>999</td>\n",
       "      <td>PenMultiplex</td>\n",
       "      <td>NaN</td>\n",
       "      <td>11700000.0</td>\n",
       "      <td>India</td>\n",
       "      <td>14000.0</td>\n",
       "      <td>81.0</td>\n",
       "      <td>1.0</td>\n",
       "      <td>http://youtube.com/channel/UCObyBrdrtQ20BU9PxH...</td>\n",
       "    </tr>\n",
       "    <tr>\n",
       "      <th>999</th>\n",
       "      <td>1000</td>\n",
       "      <td>OneindiaHindi</td>\n",
       "      <td>Noticias y Política</td>\n",
       "      <td>11700000.0</td>\n",
       "      <td>India</td>\n",
       "      <td>2200.0</td>\n",
       "      <td>31.0</td>\n",
       "      <td>1.0</td>\n",
       "      <td>http://youtube.com/channel/UCOjgc1p2hJ4GZi6pQQ...</td>\n",
       "    </tr>\n",
       "  </tbody>\n",
       "</table>\n",
       "</div>"
      ],
      "text/plain": [
       "     Rank              Username           Categories  Suscribers  \\\n",
       "995   996          hamzymukbang                  NaN  11700000.0   \n",
       "996   997            Adaahqueen                  NaN  11700000.0   \n",
       "997   998  LittleAngelIndonesia       Música y baile  11700000.0   \n",
       "998   999          PenMultiplex                  NaN  11700000.0   \n",
       "999  1000         OneindiaHindi  Noticias y Política  11700000.0   \n",
       "\n",
       "            Country     Visits    Likes  Comments  \\\n",
       "995  Estados Unidos   397400.0  14000.0     124.0   \n",
       "996           India  1100000.0  92500.0     164.0   \n",
       "997         Unknown   211400.0    745.0       0.0   \n",
       "998           India    14000.0     81.0       1.0   \n",
       "999           India     2200.0     31.0       1.0   \n",
       "\n",
       "                                                 Links  \n",
       "995  http://youtube.com/channel/UCPKNKldggioffXPkSm...  \n",
       "996  http://youtube.com/channel/UCk3fFpqI5kDMf__mUP...  \n",
       "997  http://youtube.com/channel/UCdrHrQf0o0TO8YDntX...  \n",
       "998  http://youtube.com/channel/UCObyBrdrtQ20BU9PxH...  \n",
       "999  http://youtube.com/channel/UCOjgc1p2hJ4GZi6pQQ...  "
      ]
     },
     "execution_count": 10,
     "metadata": {},
     "output_type": "execute_result"
    }
   ],
   "source": [
    "df.tail()"
   ]
  },
  {
   "cell_type": "code",
   "execution_count": null,
   "id": "e13fa7fa-6c85-4487-8e85-3a6b113472ee",
   "metadata": {},
   "outputs": [],
   "source": [
    "STEP 3- SANITY CHECK OF DATA"
   ]
  },
  {
   "cell_type": "code",
   "execution_count": null,
   "id": "222d099e-0d58-41cf-9c8b-94b001017df6",
   "metadata": {},
   "outputs": [],
   "source": [
    "#Shape"
   ]
  },
  {
   "cell_type": "code",
   "execution_count": 11,
   "id": "3d21f44c-f2f8-4086-bd68-d2df180f3973",
   "metadata": {},
   "outputs": [
    {
     "data": {
      "text/plain": [
       "(1000, 9)"
      ]
     },
     "execution_count": 11,
     "metadata": {},
     "output_type": "execute_result"
    }
   ],
   "source": [
    "df.shape"
   ]
  },
  {
   "cell_type": "code",
   "execution_count": null,
   "id": "383822ab-1dd3-4bd7-a487-02c6d8214ff9",
   "metadata": {},
   "outputs": [],
   "source": [
    "STEP 2 #Information about data set"
   ]
  },
  {
   "cell_type": "code",
   "execution_count": 40,
   "id": "1f6704eb-3f20-4a1f-9566-b9c5cc9a1f96",
   "metadata": {},
   "outputs": [
    {
     "name": "stdout",
     "output_type": "stream",
     "text": [
      "<class 'pandas.core.frame.DataFrame'>\n",
      "RangeIndex: 1000 entries, 0 to 999\n",
      "Data columns (total 9 columns):\n",
      " #   Column      Non-Null Count  Dtype  \n",
      "---  ------      --------------  -----  \n",
      " 0   Rank        1000 non-null   int64  \n",
      " 1   Username    1000 non-null   object \n",
      " 2   Categories  694 non-null    object \n",
      " 3   Suscribers  1000 non-null   float64\n",
      " 4   Country     1000 non-null   object \n",
      " 5   Visits      1000 non-null   float64\n",
      " 6   Likes       1000 non-null   float64\n",
      " 7   Comments    1000 non-null   float64\n",
      " 8   Links       1000 non-null   object \n",
      "dtypes: float64(4), int64(1), object(4)\n",
      "memory usage: 70.4+ KB\n"
     ]
    }
   ],
   "source": [
    "df.info()"
   ]
  },
  {
   "cell_type": "code",
   "execution_count": null,
   "id": "65711e53-8059-4fd6-b9e0-42a7b7fef60a",
   "metadata": {},
   "outputs": [],
   "source": [
    "#Finding missing values (in sum and percentage)"
   ]
  },
  {
   "cell_type": "code",
   "execution_count": 15,
   "id": "501bc83e-0527-40a8-b043-e36e15b04f3a",
   "metadata": {},
   "outputs": [
    {
     "data": {
      "text/plain": [
       "Rank            0\n",
       "Username        0\n",
       "Categories    306\n",
       "Suscribers      0\n",
       "Country         0\n",
       "Visits          0\n",
       "Likes           0\n",
       "Comments        0\n",
       "Links           0\n",
       "dtype: int64"
      ]
     },
     "execution_count": 15,
     "metadata": {},
     "output_type": "execute_result"
    }
   ],
   "source": [
    "df.isnull().sum()"
   ]
  },
  {
   "cell_type": "code",
   "execution_count": 16,
   "id": "5562cdf6-2e49-4bea-9105-d5944e5a4969",
   "metadata": {},
   "outputs": [
    {
     "data": {
      "text/plain": [
       "Rank           0.0\n",
       "Username       0.0\n",
       "Categories    30.6\n",
       "Suscribers     0.0\n",
       "Country        0.0\n",
       "Visits         0.0\n",
       "Likes          0.0\n",
       "Comments       0.0\n",
       "Links          0.0\n",
       "dtype: float64"
      ]
     },
     "execution_count": 16,
     "metadata": {},
     "output_type": "execute_result"
    }
   ],
   "source": [
    "df.isnull().sum()/df.shape[0]*100"
   ]
  },
  {
   "cell_type": "code",
   "execution_count": 26,
   "id": "91f64adc-485f-4f15-94e0-ca6bdbfbe44b",
   "metadata": {},
   "outputs": [],
   "source": [
    "#Check Null Values"
   ]
  },
  {
   "cell_type": "code",
   "execution_count": 27,
   "id": "6a39754e-a389-4fea-a079-bb25adb078f1",
   "metadata": {},
   "outputs": [
    {
     "data": {
      "text/plain": [
       "Rank          False\n",
       "Username      False\n",
       "Categories     True\n",
       "Suscribers    False\n",
       "Country       False\n",
       "Visits        False\n",
       "Likes         False\n",
       "Comments      False\n",
       "Links         False\n",
       "dtype: bool"
      ]
     },
     "execution_count": 27,
     "metadata": {},
     "output_type": "execute_result"
    }
   ],
   "source": [
    "df.isnull().any()"
   ]
  },
  {
   "cell_type": "code",
   "execution_count": null,
   "id": "d7cf9cdb-645e-4338-9d84-60585d4d4051",
   "metadata": {},
   "outputs": [],
   "source": [
    "#Check for any duplicates"
   ]
  },
  {
   "cell_type": "code",
   "execution_count": 17,
   "id": "d8b46a93-131d-49df-9fe4-8c776d1eede4",
   "metadata": {},
   "outputs": [
    {
     "data": {
      "text/plain": [
       "0"
      ]
     },
     "execution_count": 17,
     "metadata": {},
     "output_type": "execute_result"
    }
   ],
   "source": [
    "df.duplicated().sum()"
   ]
  },
  {
   "cell_type": "code",
   "execution_count": null,
   "id": "6e47ebc4-43a7-43ae-9482-956b958a8eab",
   "metadata": {},
   "outputs": [],
   "source": [
    "#check for any garbage value [always in a form of object data type(columns)]"
   ]
  },
  {
   "cell_type": "code",
   "execution_count": 18,
   "id": "d325153c-cd6d-43fb-8f4f-9936663d2e90",
   "metadata": {},
   "outputs": [
    {
     "name": "stdout",
     "output_type": "stream",
     "text": [
      "Username\n",
      "NickyJamTV             2\n",
      "mgcplayhouse           2\n",
      "Family-Box             2\n",
      "Super_Senya_RU         2\n",
      "thexoteam              2\n",
      "                      ..\n",
      "EmiwayBantai           1\n",
      "PragatiVermaaShorts    1\n",
      "Cookieswirlc           1\n",
      "gottalentglobal        1\n",
      "OneindiaHindi          1\n",
      "Name: count, Length: 994, dtype: int64\n",
      "******************************\n",
      "Categories\n",
      "Música y baile                        160\n",
      "Películas, Animación                   61\n",
      "Música y baile, Películas              41\n",
      "Vlogs diarios                          37\n",
      "Noticias y Política                    36\n",
      "Películas, Humor                       34\n",
      "Animación, Videojuegos                 34\n",
      "Animación, Juguetes                    29\n",
      "Animación, Humor                       27\n",
      "Películas                              24\n",
      "Educación                              24\n",
      "Animación                              22\n",
      "Videojuegos                            19\n",
      "Videojuegos, Humor                     17\n",
      "Música y baile, Animación              16\n",
      "Ciencia y tecnología                   14\n",
      "Comida y bebida                        12\n",
      "Humor                                  10\n",
      "Juguetes                               10\n",
      "Películas, Juguetes                     9\n",
      "Películas, Videojuegos                  8\n",
      "Deportes                                8\n",
      "Música y baile, Humor                   6\n",
      "Juguetes, Coches y vehículos            4\n",
      "DIY y Life Hacks                        3\n",
      "Fitness, Salud y autoayuda              3\n",
      "Videojuegos, Juguetes                   3\n",
      "Animales y mascotas                     2\n",
      "Moda                                    2\n",
      "Coches y vehículos                      2\n",
      "Educación, Juguetes                     2\n",
      "Fitness                                 2\n",
      "Comida y bebida, Juguetes               1\n",
      "ASMR, Comida y bebida                   1\n",
      "Animación, Humor, Juguetes              1\n",
      "Diseño/arte, Belleza                    1\n",
      "Belleza, Moda                           1\n",
      "ASMR                                    1\n",
      "Música y baile, Juguetes                1\n",
      "Diseño/arte, DIY y Life Hacks           1\n",
      "DIY y Life Hacks, Juguetes              1\n",
      "Diseño/arte                             1\n",
      "Comida y bebida, Salud y autoayuda      1\n",
      "Viajes, Espectáculos                    1\n",
      "Juguetes, DIY y Life Hacks              1\n",
      "Name: count, dtype: int64\n",
      "******************************\n",
      "Country\n",
      "Estados Unidos    293\n",
      "India             241\n",
      "Unknown           171\n",
      "Brasil             64\n",
      "México             58\n",
      "Indonesia          38\n",
      "Rusia              25\n",
      "Tailandia          18\n",
      "Colombia           16\n",
      "Filipinas          13\n",
      "Pakistán           11\n",
      "Argentina           7\n",
      "Egipto              5\n",
      "Francia             4\n",
      "Turquía             4\n",
      "Arabia Saudita      4\n",
      "España              4\n",
      "Iraq                4\n",
      "Japón               3\n",
      "Bangladesh          3\n",
      "Reino Unido         3\n",
      "Marruecos           2\n",
      "Argelia             2\n",
      "Perú                2\n",
      "Singapur            1\n",
      "Ecuador             1\n",
      "Jordania            1\n",
      "El Salvador         1\n",
      "Somalia             1\n",
      "Name: count, dtype: int64\n",
      "******************************\n",
      "Links\n",
      "http://youtube.com/channel/UCpb_iJuhFe8V6rQdbNqfAlQ    2\n",
      "http://youtube.com/channel/UC6zPzUJo8hu-5TzUk8IEC2Q    2\n",
      "http://youtube.com/channel/UC-jHNWViReG6R_kJ6b45FdQ    2\n",
      "http://youtube.com/channel/UCTn9Vyy-3fzLIr0bqhIbNig    2\n",
      "http://youtube.com/channel/UClZAOlfhJQJRym39WoAPxdw    2\n",
      "                                                      ..\n",
      "http://youtube.com/channel/UCHmk8iNJHvf5mGN6_pkPc7g    1\n",
      "http://youtube.com/channel/UCZcR0eG70cbq044cb_OH3Qw    1\n",
      "http://youtube.com/channel/UCelMeixAOTs2OQAAi9wU8-g    1\n",
      "http://youtube.com/channel/UCe_Fx4EZAgKjDz0aQ_Y7hSA    1\n",
      "http://youtube.com/channel/UCOjgc1p2hJ4GZi6pQQoXWYQ    1\n",
      "Name: count, Length: 994, dtype: int64\n",
      "******************************\n"
     ]
    }
   ],
   "source": [
    "for i in df.select_dtypes(include=\"object\").columns:\n",
    "    print(df[i].value_counts())\n",
    "    print(\"***\"*10)"
   ]
  },
  {
   "cell_type": "code",
   "execution_count": null,
   "id": "70ea869d-62a0-4d4a-910b-f51afd16797e",
   "metadata": {},
   "outputs": [],
   "source": [
    "#fill in the categories missing values"
   ]
  },
  {
   "cell_type": "code",
   "execution_count": null,
   "id": "6fd89631-b693-430b-8ba6-1c51a95501c7",
   "metadata": {},
   "outputs": [],
   "source": [
    "# The Word \"Suscribers\" to \"Subscribers\""
   ]
  },
  {
   "cell_type": "code",
   "execution_count": 45,
   "id": "864eebf2-1bf3-48ea-8f5d-ae50a017e9c3",
   "metadata": {},
   "outputs": [],
   "source": [
    "df = df.rename(columns = {\"Suscribers\": \"Subscribers\"})"
   ]
  },
  {
   "cell_type": "code",
   "execution_count": 46,
   "id": "f09b7b67-a630-4ec6-9b2e-6c56e6f2aa42",
   "metadata": {
    "scrolled": true
   },
   "outputs": [
    {
     "data": {
      "text/html": [
       "<div>\n",
       "<style scoped>\n",
       "    .dataframe tbody tr th:only-of-type {\n",
       "        vertical-align: middle;\n",
       "    }\n",
       "\n",
       "    .dataframe tbody tr th {\n",
       "        vertical-align: top;\n",
       "    }\n",
       "\n",
       "    .dataframe thead th {\n",
       "        text-align: right;\n",
       "    }\n",
       "</style>\n",
       "<table border=\"1\" class=\"dataframe\">\n",
       "  <thead>\n",
       "    <tr style=\"text-align: right;\">\n",
       "      <th></th>\n",
       "      <th>Rank</th>\n",
       "      <th>Username</th>\n",
       "      <th>Categories</th>\n",
       "      <th>Subscribers</th>\n",
       "      <th>Country</th>\n",
       "      <th>Visits</th>\n",
       "      <th>Likes</th>\n",
       "      <th>Comments</th>\n",
       "      <th>Links</th>\n",
       "    </tr>\n",
       "  </thead>\n",
       "  <tbody>\n",
       "    <tr>\n",
       "      <th>0</th>\n",
       "      <td>1</td>\n",
       "      <td>tseries</td>\n",
       "      <td>Música y baile</td>\n",
       "      <td>249500000.0</td>\n",
       "      <td>India</td>\n",
       "      <td>86200.0</td>\n",
       "      <td>2700.0</td>\n",
       "      <td>78.0</td>\n",
       "      <td>http://youtube.com/channel/UCq-Fj5jknLsUf-MWSy...</td>\n",
       "    </tr>\n",
       "    <tr>\n",
       "      <th>1</th>\n",
       "      <td>2</td>\n",
       "      <td>MrBeast</td>\n",
       "      <td>Videojuegos, Humor</td>\n",
       "      <td>183500000.0</td>\n",
       "      <td>Estados Unidos</td>\n",
       "      <td>117400000.0</td>\n",
       "      <td>5300000.0</td>\n",
       "      <td>18500.0</td>\n",
       "      <td>http://youtube.com/channel/UCX6OQ3DkcsbYNE6H8u...</td>\n",
       "    </tr>\n",
       "    <tr>\n",
       "      <th>2</th>\n",
       "      <td>3</td>\n",
       "      <td>CoComelon</td>\n",
       "      <td>Educación</td>\n",
       "      <td>165500000.0</td>\n",
       "      <td>Unknown</td>\n",
       "      <td>7000000.0</td>\n",
       "      <td>24700.0</td>\n",
       "      <td>0.0</td>\n",
       "      <td>http://youtube.com/channel/UCbCmjCuTUZos6Inko4...</td>\n",
       "    </tr>\n",
       "    <tr>\n",
       "      <th>3</th>\n",
       "      <td>4</td>\n",
       "      <td>SETIndia</td>\n",
       "      <td>NaN</td>\n",
       "      <td>162600000.0</td>\n",
       "      <td>India</td>\n",
       "      <td>15600.0</td>\n",
       "      <td>166.0</td>\n",
       "      <td>9.0</td>\n",
       "      <td>http://youtube.com/channel/UCpEhnqL0y41EpW2TvW...</td>\n",
       "    </tr>\n",
       "    <tr>\n",
       "      <th>4</th>\n",
       "      <td>5</td>\n",
       "      <td>KidsDianaShow</td>\n",
       "      <td>Animación, Juguetes</td>\n",
       "      <td>113500000.0</td>\n",
       "      <td>Unknown</td>\n",
       "      <td>3900000.0</td>\n",
       "      <td>12400.0</td>\n",
       "      <td>0.0</td>\n",
       "      <td>http://youtube.com/channel/UCk8GzjMOrta8yxDcKf...</td>\n",
       "    </tr>\n",
       "  </tbody>\n",
       "</table>\n",
       "</div>"
      ],
      "text/plain": [
       "   Rank       Username           Categories  Subscribers         Country  \\\n",
       "0     1        tseries       Música y baile  249500000.0           India   \n",
       "1     2        MrBeast   Videojuegos, Humor  183500000.0  Estados Unidos   \n",
       "2     3      CoComelon            Educación  165500000.0         Unknown   \n",
       "3     4       SETIndia                  NaN  162600000.0           India   \n",
       "4     5  KidsDianaShow  Animación, Juguetes  113500000.0         Unknown   \n",
       "\n",
       "        Visits      Likes  Comments  \\\n",
       "0      86200.0     2700.0      78.0   \n",
       "1  117400000.0  5300000.0   18500.0   \n",
       "2    7000000.0    24700.0       0.0   \n",
       "3      15600.0      166.0       9.0   \n",
       "4    3900000.0    12400.0       0.0   \n",
       "\n",
       "                                               Links  \n",
       "0  http://youtube.com/channel/UCq-Fj5jknLsUf-MWSy...  \n",
       "1  http://youtube.com/channel/UCX6OQ3DkcsbYNE6H8u...  \n",
       "2  http://youtube.com/channel/UCbCmjCuTUZos6Inko4...  \n",
       "3  http://youtube.com/channel/UCpEhnqL0y41EpW2TvW...  \n",
       "4  http://youtube.com/channel/UCk8GzjMOrta8yxDcKf...  "
      ]
     },
     "execution_count": 46,
     "metadata": {},
     "output_type": "execute_result"
    }
   ],
   "source": [
    "df.head()"
   ]
  },
  {
   "cell_type": "code",
   "execution_count": 44,
   "id": "14474fe5-04c1-4dc7-84e4-a91748e758d6",
   "metadata": {},
   "outputs": [],
   "source": []
  },
  {
   "cell_type": "markdown",
   "id": "1bc9314a-e2ab-452a-bf8b-2175c05d0ebf",
   "metadata": {},
   "source": [
    "DATA TRENDS"
   ]
  },
  {
   "cell_type": "markdown",
   "id": "1b4aad57-721f-4e39-9bc6-b0bfc640a667",
   "metadata": {},
   "source": [
    "OBSERVING THE DATASET"
   ]
  },
  {
   "cell_type": "markdown",
   "id": "83a7a79c-b171-4129-82f9-4e1097fe9242",
   "metadata": {},
   "source": [
    "STEP 4##EXPLORATORY DATA ANALYSIS"
   ]
  },
  {
   "cell_type": "code",
   "execution_count": null,
   "id": "920cef5c-52cb-4d54-9b7d-d9e2df7ae74c",
   "metadata": {},
   "outputs": [],
   "source": [
    "#descriptive statistics"
   ]
  },
  {
   "cell_type": "code",
   "execution_count": 22,
   "id": "70b4c9de-2bc4-4361-abfb-3d9c6d8fe6b6",
   "metadata": {},
   "outputs": [
    {
     "data": {
      "text/html": [
       "<div>\n",
       "<style scoped>\n",
       "    .dataframe tbody tr th:only-of-type {\n",
       "        vertical-align: middle;\n",
       "    }\n",
       "\n",
       "    .dataframe tbody tr th {\n",
       "        vertical-align: top;\n",
       "    }\n",
       "\n",
       "    .dataframe thead th {\n",
       "        text-align: right;\n",
       "    }\n",
       "</style>\n",
       "<table border=\"1\" class=\"dataframe\">\n",
       "  <thead>\n",
       "    <tr style=\"text-align: right;\">\n",
       "      <th></th>\n",
       "      <th>count</th>\n",
       "      <th>mean</th>\n",
       "      <th>std</th>\n",
       "      <th>min</th>\n",
       "      <th>25%</th>\n",
       "      <th>50%</th>\n",
       "      <th>75%</th>\n",
       "      <th>max</th>\n",
       "    </tr>\n",
       "  </thead>\n",
       "  <tbody>\n",
       "    <tr>\n",
       "      <th>Rank</th>\n",
       "      <td>1000.0</td>\n",
       "      <td>5.005000e+02</td>\n",
       "      <td>2.888194e+02</td>\n",
       "      <td>1.0</td>\n",
       "      <td>250.75</td>\n",
       "      <td>500.5</td>\n",
       "      <td>750.25</td>\n",
       "      <td>1000.0</td>\n",
       "    </tr>\n",
       "    <tr>\n",
       "      <th>Suscribers</th>\n",
       "      <td>1000.0</td>\n",
       "      <td>2.189440e+07</td>\n",
       "      <td>1.682775e+07</td>\n",
       "      <td>11700000.0</td>\n",
       "      <td>13800000.00</td>\n",
       "      <td>16750000.0</td>\n",
       "      <td>23700000.00</td>\n",
       "      <td>249500000.0</td>\n",
       "    </tr>\n",
       "    <tr>\n",
       "      <th>Visits</th>\n",
       "      <td>1000.0</td>\n",
       "      <td>1.209446e+06</td>\n",
       "      <td>5.229942e+06</td>\n",
       "      <td>0.0</td>\n",
       "      <td>31975.00</td>\n",
       "      <td>174450.0</td>\n",
       "      <td>865475.00</td>\n",
       "      <td>117400000.0</td>\n",
       "    </tr>\n",
       "    <tr>\n",
       "      <th>Likes</th>\n",
       "      <td>1000.0</td>\n",
       "      <td>5.363259e+04</td>\n",
       "      <td>2.580457e+05</td>\n",
       "      <td>0.0</td>\n",
       "      <td>471.75</td>\n",
       "      <td>3500.0</td>\n",
       "      <td>28650.00</td>\n",
       "      <td>5300000.0</td>\n",
       "    </tr>\n",
       "    <tr>\n",
       "      <th>Comments</th>\n",
       "      <td>1000.0</td>\n",
       "      <td>1.288768e+03</td>\n",
       "      <td>6.778188e+03</td>\n",
       "      <td>0.0</td>\n",
       "      <td>2.00</td>\n",
       "      <td>67.0</td>\n",
       "      <td>472.00</td>\n",
       "      <td>154000.0</td>\n",
       "    </tr>\n",
       "  </tbody>\n",
       "</table>\n",
       "</div>"
      ],
      "text/plain": [
       "             count          mean           std         min          25%  \\\n",
       "Rank        1000.0  5.005000e+02  2.888194e+02         1.0       250.75   \n",
       "Suscribers  1000.0  2.189440e+07  1.682775e+07  11700000.0  13800000.00   \n",
       "Visits      1000.0  1.209446e+06  5.229942e+06         0.0     31975.00   \n",
       "Likes       1000.0  5.363259e+04  2.580457e+05         0.0       471.75   \n",
       "Comments    1000.0  1.288768e+03  6.778188e+03         0.0         2.00   \n",
       "\n",
       "                   50%          75%          max  \n",
       "Rank             500.5       750.25       1000.0  \n",
       "Suscribers  16750000.0  23700000.00  249500000.0  \n",
       "Visits        174450.0    865475.00  117400000.0  \n",
       "Likes           3500.0     28650.00    5300000.0  \n",
       "Comments          67.0       472.00     154000.0  "
      ]
     },
     "execution_count": 22,
     "metadata": {},
     "output_type": "execute_result"
    }
   ],
   "source": [
    "df.describe().T"
   ]
  },
  {
   "cell_type": "code",
   "execution_count": 23,
   "id": "a53e5d52-9df7-4025-9cb9-7ef288bd754a",
   "metadata": {},
   "outputs": [
    {
     "data": {
      "text/html": [
       "<div>\n",
       "<style scoped>\n",
       "    .dataframe tbody tr th:only-of-type {\n",
       "        vertical-align: middle;\n",
       "    }\n",
       "\n",
       "    .dataframe tbody tr th {\n",
       "        vertical-align: top;\n",
       "    }\n",
       "\n",
       "    .dataframe thead th {\n",
       "        text-align: right;\n",
       "    }\n",
       "</style>\n",
       "<table border=\"1\" class=\"dataframe\">\n",
       "  <thead>\n",
       "    <tr style=\"text-align: right;\">\n",
       "      <th></th>\n",
       "      <th>Username</th>\n",
       "      <th>Categories</th>\n",
       "      <th>Country</th>\n",
       "      <th>Links</th>\n",
       "    </tr>\n",
       "  </thead>\n",
       "  <tbody>\n",
       "    <tr>\n",
       "      <th>count</th>\n",
       "      <td>1000</td>\n",
       "      <td>694</td>\n",
       "      <td>1000</td>\n",
       "      <td>1000</td>\n",
       "    </tr>\n",
       "    <tr>\n",
       "      <th>unique</th>\n",
       "      <td>994</td>\n",
       "      <td>45</td>\n",
       "      <td>29</td>\n",
       "      <td>994</td>\n",
       "    </tr>\n",
       "    <tr>\n",
       "      <th>top</th>\n",
       "      <td>NickyJamTV</td>\n",
       "      <td>Música y baile</td>\n",
       "      <td>Estados Unidos</td>\n",
       "      <td>http://youtube.com/channel/UCpb_iJuhFe8V6rQdbN...</td>\n",
       "    </tr>\n",
       "    <tr>\n",
       "      <th>freq</th>\n",
       "      <td>2</td>\n",
       "      <td>160</td>\n",
       "      <td>293</td>\n",
       "      <td>2</td>\n",
       "    </tr>\n",
       "  </tbody>\n",
       "</table>\n",
       "</div>"
      ],
      "text/plain": [
       "          Username      Categories         Country  \\\n",
       "count         1000             694            1000   \n",
       "unique         994              45              29   \n",
       "top     NickyJamTV  Música y baile  Estados Unidos   \n",
       "freq             2             160             293   \n",
       "\n",
       "                                                    Links  \n",
       "count                                                1000  \n",
       "unique                                                994  \n",
       "top     http://youtube.com/channel/UCpb_iJuhFe8V6rQdbN...  \n",
       "freq                                                    2  "
      ]
     },
     "execution_count": 23,
     "metadata": {},
     "output_type": "execute_result"
    }
   ],
   "source": [
    "df.describe(include=\"object\")"
   ]
  },
  {
   "cell_type": "code",
   "execution_count": null,
   "id": "fc30ad52-3822-4ead-b0ee-87efbd9ad694",
   "metadata": {},
   "outputs": [],
   "source": [
    "#distribution of data for each numerical column. It Shows how the data is distributed"
   ]
  },
  {
   "cell_type": "code",
   "execution_count": 40,
   "id": "07aaac4f-3744-4fbe-b16f-ca0b3aaa141a",
   "metadata": {},
   "outputs": [
    {
     "data": {
      "image/png": "[encoded data removed]",
      "text/plain": [
       "<Figure size 640x480 with 1 Axes>"
      ]
     },
     "metadata": {},
     "output_type": "display_data"
    },
    {
     "data": {
      "image/png": "[encoded data removed]",
      "text/plain": [
       "<Figure size 640x480 with 1 Axes>"
      ]
     },
     "metadata": {},
     "output_type": "display_data"
    },
    {
     "data": {
      "image/png": "[encoded data removed]",
      "text/plain": [
       "<Figure size 640x480 with 1 Axes>"
      ]
     },
     "metadata": {},
     "output_type": "display_data"
    },
    {
     "data": {
      "image/png": "[encoded data removed]",
      "text/plain": [
       "<Figure size 640x480 with 1 Axes>"
      ]
     },
     "metadata": {},
     "output_type": "display_data"
    },
    {
     "data": {
      "image/png": "[encoded data removed]",
      "text/plain": [
       "<Figure size 640x480 with 1 Axes>"
      ]
     },
     "metadata": {},
     "output_type": "display_data"
    }
   ],
   "source": [
    "import seaborn as sns\n",
    "import matplotlib.pyplot as plt\n",
    "import warnings\n",
    "warnings.filterwarnings(\"ignore\")\n",
    "#Histogram to understand the distribution\n",
    "for i in df.select_dtypes(include=\"number\").columns:\n",
    "    sns.histplot(data=df,x=i)\n",
    "    plt.show()"
   ]
  },
  {
   "cell_type": "code",
   "execution_count": null,
   "id": "4977c2a5-6bab-44d7-b067-c19147686b71",
   "metadata": {},
   "outputs": [],
   "source": [
    "#Boxplot-to-identify Outliers"
   ]
  },
  {
   "cell_type": "code",
   "execution_count": 41,
   "id": "f63bee98-9102-4904-97e7-934572e4bfca",
   "metadata": {},
   "outputs": [
    {
     "data": {
      "image/png": "[encoded data removed]",
      "text/plain": [
       "<Figure size 640x480 with 1 Axes>"
      ]
     },
     "metadata": {},
     "output_type": "display_data"
    },
    {
     "data": {
      "image/png": "[encoded data removed]",
      "text/plain": [
       "<Figure size 640x480 with 1 Axes>"
      ]
     },
     "metadata": {},
     "output_type": "display_data"
    },
    {
     "data": {
      "image/png": "[encoded data removed]",
      "text/plain": [
       "<Figure size 640x480 with 1 Axes>"
      ]
     },
     "metadata": {},
     "output_type": "display_data"
    },
    {
     "data": {
      "image/png": "[encoded data removed]",
      "text/plain": [
       "<Figure size 640x480 with 1 Axes>"
      ]
     },
     "metadata": {},
     "output_type": "display_data"
    },
    {
     "data": {
      "image/png": "[encoded data removed]",
      "text/plain": [
       "<Figure size 640x480 with 1 Axes>"
      ]
     },
     "metadata": {},
     "output_type": "display_data"
    }
   ],
   "source": [
    "import seaborn as sns\n",
    "import matplotlib.pyplot as plt\n",
    "import warnings\n",
    "warnings.filterwarnings(\"ignore\")\n",
    "#Histogram to understand the distribution\n",
    "for i in df.select_dtypes(include=\"number\").columns:\n",
    "    sns.boxplot(data=df,x=i)\n",
    "    plt.show()"
   ]
  },
  {
   "cell_type": "code",
   "execution_count": 50,
   "id": "45af0a8f-2353-48bb-bdfe-185bdfb9a370",
   "metadata": {},
   "outputs": [
    {
     "data": {
      "image/png": "[encoded data removed]",
      "text/plain": [
       "<Figure size 640x480 with 1 Axes>"
      ]
     },
     "metadata": {},
     "output_type": "display_data"
    },
    {
     "data": {
      "image/png": "[encoded data removed]",
      "text/plain": [
       "<Figure size 640x480 with 1 Axes>"
      ]
     },
     "metadata": {},
     "output_type": "display_data"
    },
    {
     "data": {
      "image/png": "[encoded data removed]",
      "text/plain": [
       "<Figure size 640x480 with 1 Axes>"
      ]
     },
     "metadata": {},
     "output_type": "display_data"
    },
    {
     "data": {
      "image/png": "[encoded data removed]",
      "text/plain": [
       "<Figure size 640x480 with 1 Axes>"
      ]
     },
     "metadata": {},
     "output_type": "display_data"
    }
   ],
   "source": [
    "#Scatter plot to understand the relationship\n",
    "for i in ['Rank', 'Visits', 'Likes', 'Comments']:\n",
    "    sns.scatterplot(data=df,x=i,y=\"Subscribers\")\n",
    "    plt.show()"
   ]
  },
  {
   "cell_type": "code",
   "execution_count": 42,
   "id": "18cc1fbf-66f6-43cf-85aa-90b153ddc885",
   "metadata": {},
   "outputs": [
    {
     "data": {
      "text/plain": [
       "Index(['Rank', 'Suscribers', 'Visits', 'Likes', 'Comments'], dtype='object')"
      ]
     },
     "execution_count": 42,
     "metadata": {},
     "output_type": "execute_result"
    }
   ],
   "source": [
    "s= df.select_dtypes(include=\"number\").columns"
   ]
  },
  {
   "cell_type": "code",
   "execution_count": 57,
   "id": "5f649975-d56a-42b6-9097-469d9f58d5b0",
   "metadata": {},
   "outputs": [],
   "source": [
    " #correlation with heatmap to interpret the relation and multicolliniarity\n",
    "s=df.select_dtypes(include=\"number\").corr()"
   ]
  },
  {
   "cell_type": "code",
   "execution_count": 58,
   "id": "cc3ba9a6-5f39-42f9-890f-ee64a4a7d937",
   "metadata": {},
   "outputs": [
    {
     "data": {
      "text/html": [
       "<div>\n",
       "<style scoped>\n",
       "    .dataframe tbody tr th:only-of-type {\n",
       "        vertical-align: middle;\n",
       "    }\n",
       "\n",
       "    .dataframe tbody tr th {\n",
       "        vertical-align: top;\n",
       "    }\n",
       "\n",
       "    .dataframe thead th {\n",
       "        text-align: right;\n",
       "    }\n",
       "</style>\n",
       "<table border=\"1\" class=\"dataframe\">\n",
       "  <thead>\n",
       "    <tr style=\"text-align: right;\">\n",
       "      <th></th>\n",
       "      <th>Rank</th>\n",
       "      <th>Subscribers</th>\n",
       "      <th>Visits</th>\n",
       "      <th>Likes</th>\n",
       "      <th>Comments</th>\n",
       "    </tr>\n",
       "  </thead>\n",
       "  <tbody>\n",
       "    <tr>\n",
       "      <th>Rank</th>\n",
       "      <td>1.000000</td>\n",
       "      <td>-0.942941</td>\n",
       "      <td>-0.337920</td>\n",
       "      <td>-0.352911</td>\n",
       "      <td>-0.356779</td>\n",
       "    </tr>\n",
       "    <tr>\n",
       "      <th>Subscribers</th>\n",
       "      <td>-0.942941</td>\n",
       "      <td>1.000000</td>\n",
       "      <td>0.070180</td>\n",
       "      <td>0.096131</td>\n",
       "      <td>0.101287</td>\n",
       "    </tr>\n",
       "    <tr>\n",
       "      <th>Visits</th>\n",
       "      <td>-0.337920</td>\n",
       "      <td>0.070180</td>\n",
       "      <td>1.000000</td>\n",
       "      <td>0.998611</td>\n",
       "      <td>0.998245</td>\n",
       "    </tr>\n",
       "    <tr>\n",
       "      <th>Likes</th>\n",
       "      <td>-0.352911</td>\n",
       "      <td>0.096131</td>\n",
       "      <td>0.998611</td>\n",
       "      <td>1.000000</td>\n",
       "      <td>0.999975</td>\n",
       "    </tr>\n",
       "    <tr>\n",
       "      <th>Comments</th>\n",
       "      <td>-0.356779</td>\n",
       "      <td>0.101287</td>\n",
       "      <td>0.998245</td>\n",
       "      <td>0.999975</td>\n",
       "      <td>1.000000</td>\n",
       "    </tr>\n",
       "  </tbody>\n",
       "</table>\n",
       "</div>"
      ],
      "text/plain": [
       "                 Rank  Subscribers    Visits     Likes  Comments\n",
       "Rank         1.000000    -0.942941 -0.337920 -0.352911 -0.356779\n",
       "Subscribers -0.942941     1.000000  0.070180  0.096131  0.101287\n",
       "Visits      -0.337920     0.070180  1.000000  0.998611  0.998245\n",
       "Likes       -0.352911     0.096131  0.998611  1.000000  0.999975\n",
       "Comments    -0.356779     0.101287  0.998245  0.999975  1.000000"
      ]
     },
     "execution_count": 58,
     "metadata": {},
     "output_type": "execute_result"
    }
   ],
   "source": []
  },
  {
   "cell_type": "code",
   "execution_count": 63,
   "id": "120bdd1d-2741-417f-b858-ec9e82fcee35",
   "metadata": {},
   "outputs": [
    {
     "data": {
      "text/plain": [
       "<Axes: >"
      ]
     },
     "execution_count": 63,
     "metadata": {},
     "output_type": "execute_result"
    },
    {
     "data": {
      "image/png": "[encoded data removed]",
      "text/plain": [
       "<Figure size 640x480 with 2 Axes>"
      ]
     },
     "metadata": {},
     "output_type": "display_data"
    }
   ],
   "source": [
    "sns.heatmap(s,annot=True)"
   ]
  },
  {
   "cell_type": "code",
   "execution_count": null,
   "id": "1d96fa97-780c-4571-ab1c-70f84320afb1",
   "metadata": {},
   "outputs": [],
   "source": [
    "#STEP 5 MISSING VALUE TREATMENTS"
   ]
  },
  {
   "cell_type": "code",
   "execution_count": null,
   "id": "08a304c8-d325-49da-9b3e-eb08d82d7e2c",
   "metadata": {},
   "outputs": [],
   "source": [
    "#choose the method of imputing missing value\n",
    "#like mean.median, mode or KNNIputer"
   ]
  },
  {
   "cell_type": "code",
   "execution_count": null,
   "id": "ae6ffec7-2c00-4cc6-881a-bc49901cfc13",
   "metadata": {},
   "outputs": [],
   "source": [
    "from skylearn.impute import KNNImputer\n",
    "impute=KNNImputer()"
   ]
  },
  {
   "cell_type": "code",
   "execution_count": 16,
   "id": "042fd31e-aaeb-4950-8ba6-a784f9db3b34",
   "metadata": {},
   "outputs": [
    {
     "ename": "NameError",
     "evalue": "name 'impute' is not defined",
     "output_type": "error",
     "traceback": [
      "\u001b[1;31m---------------------------------------------------------------------------\u001b[0m",
      "\u001b[1;31mNameError\u001b[0m                                 Traceback (most recent call last)",
      "Cell \u001b[1;32mIn[16], line 2\u001b[0m\n\u001b[0;32m      1\u001b[0m \u001b[38;5;28;01mfor\u001b[39;00m i \u001b[38;5;129;01min\u001b[39;00m df\u001b[38;5;241m.\u001b[39mselect_dtypes(include\u001b[38;5;241m=\u001b[39m\u001b[38;5;124m\"\u001b[39m\u001b[38;5;124mnumber\u001b[39m\u001b[38;5;124m\"\u001b[39m)\u001b[38;5;241m.\u001b[39mcolumns:\n\u001b[1;32m----> 2\u001b[0m     df[i]\u001b[38;5;241m=\u001b[39m\u001b[43mimpute\u001b[49m\u001b[38;5;241m.\u001b[39mfit_transform(df[(i)])\n",
      "\u001b[1;31mNameError\u001b[0m: name 'impute' is not defined"
     ]
    }
   ],
   "source": [
    "for i in df.select_dtypes(include=\"number\").columns:\n",
    "    df[i]=impute.fit_transform(df[(i)])"
   ]
  },
  {
   "cell_type": "code",
   "execution_count": 12,
   "id": "3101f638-bf0e-4731-9319-da5ddc2dc053",
   "metadata": {},
   "outputs": [
    {
     "data": {
      "text/plain": [
       "Rank            0\n",
       "Username        0\n",
       "Categories    306\n",
       "Suscribers      0\n",
       "Country         0\n",
       "Visits          0\n",
       "Likes           0\n",
       "Comments        0\n",
       "Links           0\n",
       "dtype: int64"
      ]
     },
     "execution_count": 12,
     "metadata": {},
     "output_type": "execute_result"
    }
   ],
   "source": [
    "df.isnull().sum()"
   ]
  },
  {
   "cell_type": "code",
   "execution_count": null,
   "id": "3c63fc72-6b88-41f1-b283-d4887131922d",
   "metadata": {},
   "outputs": [],
   "source": []
  },
  {
   "cell_type": "markdown",
   "id": "619bceb0-dc63-4e78-9b41-dd845a747416",
   "metadata": {},
   "source": [
    "STEP 6- OUTLIERS TREATMENTS"
   ]
  },
  {
   "cell_type": "code",
   "execution_count": 23,
   "id": "1503baa7-9462-46bd-bb4a-30d9f41599ae",
   "metadata": {},
   "outputs": [
    {
     "name": "stdout",
     "output_type": "stream",
     "text": [
      "Requirement already satisfied: numpy in c:\\users\\perci daman\\appdata\\local\\programs\\python\\python312\\lib\\site-packages (1.26.4)Note: you may need to restart the kernel to use updated packages.\n",
      "\n"
     ]
    }
   ],
   "source": [
    "pip install numpy"
   ]
  },
  {
   "cell_type": "code",
   "execution_count": 24,
   "id": "7b97eaf4-25d9-475c-b5ba-c615a521c78a",
   "metadata": {},
   "outputs": [],
   "source": [
    "import numpy as np"
   ]
  },
  {
   "cell_type": "code",
   "execution_count": 27,
   "id": "10f4a1a3-a1e3-4bfb-a32f-573ec80376b2",
   "metadata": {},
   "outputs": [],
   "source": [
    " def wisker(col):\n",
    "     q1,q3=np.percentile(col,[25,75])\n",
    "     iqr=q3-q1\n",
    "     lw=q1-1.5*iqr\n",
    "     uw=q3+1.5*iqr\n",
    "     return lw,uw"
   ]
  },
  {
   "cell_type": "code",
   "execution_count": 28,
   "id": "accb4416-70d2-4f10-afc6-5be01e6df7c5",
   "metadata": {},
   "outputs": [
    {
     "data": {
      "text/plain": [
       "(-41795.625, 70917.375)"
      ]
     },
     "execution_count": 28,
     "metadata": {},
     "output_type": "execute_result"
    }
   ],
   "source": [
    "wisker(df[\"Likes\"])"
   ]
  },
  {
   "cell_type": "code",
   "execution_count": 20,
   "id": "31f09db8-d73b-473c-bd91-2ef8aeb7eaab",
   "metadata": {},
   "outputs": [
    {
     "data": {
      "text/plain": [
       "Index(['Rank', 'Username', 'Categories', 'Suscribers', 'Country', 'Visits',\n",
       "       'Likes', 'Comments', 'Links'],\n",
       "      dtype='object')"
      ]
     },
     "execution_count": 20,
     "metadata": {},
     "output_type": "execute_result"
    }
   ],
   "source": [
    "df.columns"
   ]
  },
  {
   "cell_type": "code",
   "execution_count": null,
   "id": "71aff9a6-600a-4055-8764-f58a788d826f",
   "metadata": {},
   "outputs": [],
   "source": [
    "import seaborn as sns"
   ]
  },
  {
   "cell_type": "code",
   "execution_count": 37,
   "id": "b6290514-f76f-4ed0-95cb-42c558a9ac7b",
   "metadata": {},
   "outputs": [],
   "source": [
    "for i in ['Suscribers', 'Visits', 'Comments']:\n",
    "    lw,uw=wisker(df[i])\n",
    "    df[i]=np.where(df[i]<lw,lw,df[i])\n",
    "    df[i]=np.where(df[i]>uw,uw,df[i])"
   ]
  },
  {
   "cell_type": "code",
   "execution_count": 45,
   "id": "83dd1e74-b0d0-4ebf-b61a-fe859ebb5ecc",
   "metadata": {},
   "outputs": [
    {
     "data": {
      "image/png": "[encoded data removed]",
      "text/plain": [
       "<Figure size 640x480 with 1 Axes>"
      ]
     },
     "metadata": {},
     "output_type": "display_data"
    },
    {
     "data": {
      "image/png": "[encoded data removed]",
      "text/plain": [
       "<Figure size 640x480 with 1 Axes>"
      ]
     },
     "metadata": {},
     "output_type": "display_data"
    },
    {
     "data": {
      "image/png": "[encoded data removed]",
      "text/plain": [
       "<Figure size 640x480 with 1 Axes>"
      ]
     },
     "metadata": {},
     "output_type": "display_data"
    }
   ],
   "source": [
    "import matplotlib.pyplot as plt\n",
    "for i in ['Suscribers','Visits', 'Comments']:\n",
    "    sns.boxplot(df[i])\n",
    "    plt.show()"
   ]
  },
  {
   "cell_type": "markdown",
   "id": "8a1ae5f7-7eb5-45be-a4b9-917632c6a8ae",
   "metadata": {},
   "source": [
    "STEP 7- DUPLICATES & GARBAGE VALUE TREATMENTS"
   ]
  },
  {
   "cell_type": "code",
   "execution_count": null,
   "id": "b7a079ec-674e-4a27-bc98-38753609f0a9",
   "metadata": {},
   "outputs": [],
   "source": [
    "#check for any duplicates, and delete any\n",
    "#clean the garbage value"
   ]
  },
  {
   "cell_type": "code",
   "execution_count": 48,
   "id": "46415617-b36e-4baa-a281-f83a8a79813f",
   "metadata": {},
   "outputs": [
    {
     "data": {
      "text/html": [
       "<div>\n",
       "<style scoped>\n",
       "    .dataframe tbody tr th:only-of-type {\n",
       "        vertical-align: middle;\n",
       "    }\n",
       "\n",
       "    .dataframe tbody tr th {\n",
       "        vertical-align: top;\n",
       "    }\n",
       "\n",
       "    .dataframe thead th {\n",
       "        text-align: right;\n",
       "    }\n",
       "</style>\n",
       "<table border=\"1\" class=\"dataframe\">\n",
       "  <thead>\n",
       "    <tr style=\"text-align: right;\">\n",
       "      <th></th>\n",
       "      <th>Rank</th>\n",
       "      <th>Username</th>\n",
       "      <th>Categories</th>\n",
       "      <th>Suscribers</th>\n",
       "      <th>Country</th>\n",
       "      <th>Visits</th>\n",
       "      <th>Likes</th>\n",
       "      <th>Comments</th>\n",
       "      <th>Links</th>\n",
       "    </tr>\n",
       "  </thead>\n",
       "  <tbody>\n",
       "    <tr>\n",
       "      <th>0</th>\n",
       "      <td>1</td>\n",
       "      <td>tseries</td>\n",
       "      <td>Música y baile</td>\n",
       "      <td>38550000.0</td>\n",
       "      <td>India</td>\n",
       "      <td>86200.0</td>\n",
       "      <td>2700.0</td>\n",
       "      <td>78.0</td>\n",
       "      <td>http://youtube.com/channel/UCq-Fj5jknLsUf-MWSy...</td>\n",
       "    </tr>\n",
       "    <tr>\n",
       "      <th>1</th>\n",
       "      <td>2</td>\n",
       "      <td>MrBeast</td>\n",
       "      <td>Videojuegos, Humor</td>\n",
       "      <td>38550000.0</td>\n",
       "      <td>Estados Unidos</td>\n",
       "      <td>2115725.0</td>\n",
       "      <td>5300000.0</td>\n",
       "      <td>1177.0</td>\n",
       "      <td>http://youtube.com/channel/UCX6OQ3DkcsbYNE6H8u...</td>\n",
       "    </tr>\n",
       "    <tr>\n",
       "      <th>2</th>\n",
       "      <td>3</td>\n",
       "      <td>CoComelon</td>\n",
       "      <td>Educación</td>\n",
       "      <td>38550000.0</td>\n",
       "      <td>Unknown</td>\n",
       "      <td>2115725.0</td>\n",
       "      <td>24700.0</td>\n",
       "      <td>0.0</td>\n",
       "      <td>http://youtube.com/channel/UCbCmjCuTUZos6Inko4...</td>\n",
       "    </tr>\n",
       "    <tr>\n",
       "      <th>3</th>\n",
       "      <td>4</td>\n",
       "      <td>SETIndia</td>\n",
       "      <td>NaN</td>\n",
       "      <td>38550000.0</td>\n",
       "      <td>India</td>\n",
       "      <td>15600.0</td>\n",
       "      <td>166.0</td>\n",
       "      <td>9.0</td>\n",
       "      <td>http://youtube.com/channel/UCpEhnqL0y41EpW2TvW...</td>\n",
       "    </tr>\n",
       "    <tr>\n",
       "      <th>4</th>\n",
       "      <td>5</td>\n",
       "      <td>KidsDianaShow</td>\n",
       "      <td>Animación, Juguetes</td>\n",
       "      <td>38550000.0</td>\n",
       "      <td>Unknown</td>\n",
       "      <td>2115725.0</td>\n",
       "      <td>12400.0</td>\n",
       "      <td>0.0</td>\n",
       "      <td>http://youtube.com/channel/UCk8GzjMOrta8yxDcKf...</td>\n",
       "    </tr>\n",
       "    <tr>\n",
       "      <th>...</th>\n",
       "      <td>...</td>\n",
       "      <td>...</td>\n",
       "      <td>...</td>\n",
       "      <td>...</td>\n",
       "      <td>...</td>\n",
       "      <td>...</td>\n",
       "      <td>...</td>\n",
       "      <td>...</td>\n",
       "      <td>...</td>\n",
       "    </tr>\n",
       "    <tr>\n",
       "      <th>995</th>\n",
       "      <td>996</td>\n",
       "      <td>hamzymukbang</td>\n",
       "      <td>NaN</td>\n",
       "      <td>11700000.0</td>\n",
       "      <td>Estados Unidos</td>\n",
       "      <td>397400.0</td>\n",
       "      <td>14000.0</td>\n",
       "      <td>124.0</td>\n",
       "      <td>http://youtube.com/channel/UCPKNKldggioffXPkSm...</td>\n",
       "    </tr>\n",
       "    <tr>\n",
       "      <th>996</th>\n",
       "      <td>997</td>\n",
       "      <td>Adaahqueen</td>\n",
       "      <td>NaN</td>\n",
       "      <td>11700000.0</td>\n",
       "      <td>India</td>\n",
       "      <td>1100000.0</td>\n",
       "      <td>92500.0</td>\n",
       "      <td>164.0</td>\n",
       "      <td>http://youtube.com/channel/UCk3fFpqI5kDMf__mUP...</td>\n",
       "    </tr>\n",
       "    <tr>\n",
       "      <th>997</th>\n",
       "      <td>998</td>\n",
       "      <td>LittleAngelIndonesia</td>\n",
       "      <td>Música y baile</td>\n",
       "      <td>11700000.0</td>\n",
       "      <td>Unknown</td>\n",
       "      <td>211400.0</td>\n",
       "      <td>745.0</td>\n",
       "      <td>0.0</td>\n",
       "      <td>http://youtube.com/channel/UCdrHrQf0o0TO8YDntX...</td>\n",
       "    </tr>\n",
       "    <tr>\n",
       "      <th>998</th>\n",
       "      <td>999</td>\n",
       "      <td>PenMultiplex</td>\n",
       "      <td>NaN</td>\n",
       "      <td>11700000.0</td>\n",
       "      <td>India</td>\n",
       "      <td>14000.0</td>\n",
       "      <td>81.0</td>\n",
       "      <td>1.0</td>\n",
       "      <td>http://youtube.com/channel/UCObyBrdrtQ20BU9PxH...</td>\n",
       "    </tr>\n",
       "    <tr>\n",
       "      <th>999</th>\n",
       "      <td>1000</td>\n",
       "      <td>OneindiaHindi</td>\n",
       "      <td>Noticias y Política</td>\n",
       "      <td>11700000.0</td>\n",
       "      <td>India</td>\n",
       "      <td>2200.0</td>\n",
       "      <td>31.0</td>\n",
       "      <td>1.0</td>\n",
       "      <td>http://youtube.com/channel/UCOjgc1p2hJ4GZi6pQQ...</td>\n",
       "    </tr>\n",
       "  </tbody>\n",
       "</table>\n",
       "<p>1000 rows × 9 columns</p>\n",
       "</div>"
      ],
      "text/plain": [
       "     Rank              Username           Categories  Suscribers  \\\n",
       "0       1               tseries       Música y baile  38550000.0   \n",
       "1       2               MrBeast   Videojuegos, Humor  38550000.0   \n",
       "2       3             CoComelon            Educación  38550000.0   \n",
       "3       4              SETIndia                  NaN  38550000.0   \n",
       "4       5         KidsDianaShow  Animación, Juguetes  38550000.0   \n",
       "..    ...                   ...                  ...         ...   \n",
       "995   996          hamzymukbang                  NaN  11700000.0   \n",
       "996   997            Adaahqueen                  NaN  11700000.0   \n",
       "997   998  LittleAngelIndonesia       Música y baile  11700000.0   \n",
       "998   999          PenMultiplex                  NaN  11700000.0   \n",
       "999  1000         OneindiaHindi  Noticias y Política  11700000.0   \n",
       "\n",
       "            Country     Visits      Likes  Comments  \\\n",
       "0             India    86200.0     2700.0      78.0   \n",
       "1    Estados Unidos  2115725.0  5300000.0    1177.0   \n",
       "2           Unknown  2115725.0    24700.0       0.0   \n",
       "3             India    15600.0      166.0       9.0   \n",
       "4           Unknown  2115725.0    12400.0       0.0   \n",
       "..              ...        ...        ...       ...   \n",
       "995  Estados Unidos   397400.0    14000.0     124.0   \n",
       "996           India  1100000.0    92500.0     164.0   \n",
       "997         Unknown   211400.0      745.0       0.0   \n",
       "998           India    14000.0       81.0       1.0   \n",
       "999           India     2200.0       31.0       1.0   \n",
       "\n",
       "                                                 Links  \n",
       "0    http://youtube.com/channel/UCq-Fj5jknLsUf-MWSy...  \n",
       "1    http://youtube.com/channel/UCX6OQ3DkcsbYNE6H8u...  \n",
       "2    http://youtube.com/channel/UCbCmjCuTUZos6Inko4...  \n",
       "3    http://youtube.com/channel/UCpEhnqL0y41EpW2TvW...  \n",
       "4    http://youtube.com/channel/UCk8GzjMOrta8yxDcKf...  \n",
       "..                                                 ...  \n",
       "995  http://youtube.com/channel/UCPKNKldggioffXPkSm...  \n",
       "996  http://youtube.com/channel/UCk3fFpqI5kDMf__mUP...  \n",
       "997  http://youtube.com/channel/UCdrHrQf0o0TO8YDntX...  \n",
       "998  http://youtube.com/channel/UCObyBrdrtQ20BU9PxH...  \n",
       "999  http://youtube.com/channel/UCOjgc1p2hJ4GZi6pQQ...  \n",
       "\n",
       "[1000 rows x 9 columns]"
      ]
     },
     "execution_count": 48,
     "metadata": {},
     "output_type": "execute_result"
    }
   ],
   "source": [
    "df.drop_duplicates()"
   ]
  },
  {
   "cell_type": "markdown",
   "id": "5e566dbd-e633-49aa-a6a7-d362aa4d46e4",
   "metadata": {},
   "source": [
    "ENCODING OF DATA"
   ]
  },
  {
   "cell_type": "code",
   "execution_count": null,
   "id": "65a84778-edbc-4f57-98d1-e4d59ed4281b",
   "metadata": {},
   "outputs": [],
   "source": []
  },
  {
   "cell_type": "code",
   "execution_count": null,
   "id": "3809688a-e610-4d95-9156-59660a1dce23",
   "metadata": {},
   "outputs": [],
   "source": [
    "#Do label encoding and one hot encoding with pd.getdummies"
   ]
  },
  {
   "cell_type": "code",
   "execution_count": 50,
   "id": "7d6cb5b5-5067-4dce-8967-fb5ef48ea07d",
   "metadata": {},
   "outputs": [],
   "source": [
    "dummy=pd.get_dummies(data=df,columns=[\"Username\",\"Categories\", \"Country\"],drop_first=True)"
   ]
  },
  {
   "cell_type": "code",
   "execution_count": 51,
   "id": "715c37bd-b8f0-40c2-a82e-717ebdfc3cbf",
   "metadata": {},
   "outputs": [
    {
     "data": {
      "text/html": [
       "<div>\n",
       "<style scoped>\n",
       "    .dataframe tbody tr th:only-of-type {\n",
       "        vertical-align: middle;\n",
       "    }\n",
       "\n",
       "    .dataframe tbody tr th {\n",
       "        vertical-align: top;\n",
       "    }\n",
       "\n",
       "    .dataframe thead th {\n",
       "        text-align: right;\n",
       "    }\n",
       "</style>\n",
       "<table border=\"1\" class=\"dataframe\">\n",
       "  <thead>\n",
       "    <tr style=\"text-align: right;\">\n",
       "      <th></th>\n",
       "      <th>Rank</th>\n",
       "      <th>Suscribers</th>\n",
       "      <th>Visits</th>\n",
       "      <th>Likes</th>\n",
       "      <th>Comments</th>\n",
       "      <th>Links</th>\n",
       "      <th>Username_123GOSpanish</th>\n",
       "      <th>Username_123GO_</th>\n",
       "      <th>Username_1MILLION_Dance</th>\n",
       "      <th>Username_1theK</th>\n",
       "      <th>...</th>\n",
       "      <th>Country_México</th>\n",
       "      <th>Country_Pakistán</th>\n",
       "      <th>Country_Perú</th>\n",
       "      <th>Country_Reino Unido</th>\n",
       "      <th>Country_Rusia</th>\n",
       "      <th>Country_Singapur</th>\n",
       "      <th>Country_Somalia</th>\n",
       "      <th>Country_Tailandia</th>\n",
       "      <th>Country_Turquía</th>\n",
       "      <th>Country_Unknown</th>\n",
       "    </tr>\n",
       "  </thead>\n",
       "  <tbody>\n",
       "    <tr>\n",
       "      <th>0</th>\n",
       "      <td>1</td>\n",
       "      <td>38550000.0</td>\n",
       "      <td>86200.0</td>\n",
       "      <td>2700.0</td>\n",
       "      <td>78.0</td>\n",
       "      <td>http://youtube.com/channel/UCq-Fj5jknLsUf-MWSy...</td>\n",
       "      <td>False</td>\n",
       "      <td>False</td>\n",
       "      <td>False</td>\n",
       "      <td>False</td>\n",
       "      <td>...</td>\n",
       "      <td>False</td>\n",
       "      <td>False</td>\n",
       "      <td>False</td>\n",
       "      <td>False</td>\n",
       "      <td>False</td>\n",
       "      <td>False</td>\n",
       "      <td>False</td>\n",
       "      <td>False</td>\n",
       "      <td>False</td>\n",
       "      <td>False</td>\n",
       "    </tr>\n",
       "    <tr>\n",
       "      <th>1</th>\n",
       "      <td>2</td>\n",
       "      <td>38550000.0</td>\n",
       "      <td>2115725.0</td>\n",
       "      <td>5300000.0</td>\n",
       "      <td>1177.0</td>\n",
       "      <td>http://youtube.com/channel/UCX6OQ3DkcsbYNE6H8u...</td>\n",
       "      <td>False</td>\n",
       "      <td>False</td>\n",
       "      <td>False</td>\n",
       "      <td>False</td>\n",
       "      <td>...</td>\n",
       "      <td>False</td>\n",
       "      <td>False</td>\n",
       "      <td>False</td>\n",
       "      <td>False</td>\n",
       "      <td>False</td>\n",
       "      <td>False</td>\n",
       "      <td>False</td>\n",
       "      <td>False</td>\n",
       "      <td>False</td>\n",
       "      <td>False</td>\n",
       "    </tr>\n",
       "    <tr>\n",
       "      <th>2</th>\n",
       "      <td>3</td>\n",
       "      <td>38550000.0</td>\n",
       "      <td>2115725.0</td>\n",
       "      <td>24700.0</td>\n",
       "      <td>0.0</td>\n",
       "      <td>http://youtube.com/channel/UCbCmjCuTUZos6Inko4...</td>\n",
       "      <td>False</td>\n",
       "      <td>False</td>\n",
       "      <td>False</td>\n",
       "      <td>False</td>\n",
       "      <td>...</td>\n",
       "      <td>False</td>\n",
       "      <td>False</td>\n",
       "      <td>False</td>\n",
       "      <td>False</td>\n",
       "      <td>False</td>\n",
       "      <td>False</td>\n",
       "      <td>False</td>\n",
       "      <td>False</td>\n",
       "      <td>False</td>\n",
       "      <td>True</td>\n",
       "    </tr>\n",
       "    <tr>\n",
       "      <th>3</th>\n",
       "      <td>4</td>\n",
       "      <td>38550000.0</td>\n",
       "      <td>15600.0</td>\n",
       "      <td>166.0</td>\n",
       "      <td>9.0</td>\n",
       "      <td>http://youtube.com/channel/UCpEhnqL0y41EpW2TvW...</td>\n",
       "      <td>False</td>\n",
       "      <td>False</td>\n",
       "      <td>False</td>\n",
       "      <td>False</td>\n",
       "      <td>...</td>\n",
       "      <td>False</td>\n",
       "      <td>False</td>\n",
       "      <td>False</td>\n",
       "      <td>False</td>\n",
       "      <td>False</td>\n",
       "      <td>False</td>\n",
       "      <td>False</td>\n",
       "      <td>False</td>\n",
       "      <td>False</td>\n",
       "      <td>False</td>\n",
       "    </tr>\n",
       "    <tr>\n",
       "      <th>4</th>\n",
       "      <td>5</td>\n",
       "      <td>38550000.0</td>\n",
       "      <td>2115725.0</td>\n",
       "      <td>12400.0</td>\n",
       "      <td>0.0</td>\n",
       "      <td>http://youtube.com/channel/UCk8GzjMOrta8yxDcKf...</td>\n",
       "      <td>False</td>\n",
       "      <td>False</td>\n",
       "      <td>False</td>\n",
       "      <td>False</td>\n",
       "      <td>...</td>\n",
       "      <td>False</td>\n",
       "      <td>False</td>\n",
       "      <td>False</td>\n",
       "      <td>False</td>\n",
       "      <td>False</td>\n",
       "      <td>False</td>\n",
       "      <td>False</td>\n",
       "      <td>False</td>\n",
       "      <td>False</td>\n",
       "      <td>True</td>\n",
       "    </tr>\n",
       "    <tr>\n",
       "      <th>...</th>\n",
       "      <td>...</td>\n",
       "      <td>...</td>\n",
       "      <td>...</td>\n",
       "      <td>...</td>\n",
       "      <td>...</td>\n",
       "      <td>...</td>\n",
       "      <td>...</td>\n",
       "      <td>...</td>\n",
       "      <td>...</td>\n",
       "      <td>...</td>\n",
       "      <td>...</td>\n",
       "      <td>...</td>\n",
       "      <td>...</td>\n",
       "      <td>...</td>\n",
       "      <td>...</td>\n",
       "      <td>...</td>\n",
       "      <td>...</td>\n",
       "      <td>...</td>\n",
       "      <td>...</td>\n",
       "      <td>...</td>\n",
       "      <td>...</td>\n",
       "    </tr>\n",
       "    <tr>\n",
       "      <th>995</th>\n",
       "      <td>996</td>\n",
       "      <td>11700000.0</td>\n",
       "      <td>397400.0</td>\n",
       "      <td>14000.0</td>\n",
       "      <td>124.0</td>\n",
       "      <td>http://youtube.com/channel/UCPKNKldggioffXPkSm...</td>\n",
       "      <td>False</td>\n",
       "      <td>False</td>\n",
       "      <td>False</td>\n",
       "      <td>False</td>\n",
       "      <td>...</td>\n",
       "      <td>False</td>\n",
       "      <td>False</td>\n",
       "      <td>False</td>\n",
       "      <td>False</td>\n",
       "      <td>False</td>\n",
       "      <td>False</td>\n",
       "      <td>False</td>\n",
       "      <td>False</td>\n",
       "      <td>False</td>\n",
       "      <td>False</td>\n",
       "    </tr>\n",
       "    <tr>\n",
       "      <th>996</th>\n",
       "      <td>997</td>\n",
       "      <td>11700000.0</td>\n",
       "      <td>1100000.0</td>\n",
       "      <td>92500.0</td>\n",
       "      <td>164.0</td>\n",
       "      <td>http://youtube.com/channel/UCk3fFpqI5kDMf__mUP...</td>\n",
       "      <td>False</td>\n",
       "      <td>False</td>\n",
       "      <td>False</td>\n",
       "      <td>False</td>\n",
       "      <td>...</td>\n",
       "      <td>False</td>\n",
       "      <td>False</td>\n",
       "      <td>False</td>\n",
       "      <td>False</td>\n",
       "      <td>False</td>\n",
       "      <td>False</td>\n",
       "      <td>False</td>\n",
       "      <td>False</td>\n",
       "      <td>False</td>\n",
       "      <td>False</td>\n",
       "    </tr>\n",
       "    <tr>\n",
       "      <th>997</th>\n",
       "      <td>998</td>\n",
       "      <td>11700000.0</td>\n",
       "      <td>211400.0</td>\n",
       "      <td>745.0</td>\n",
       "      <td>0.0</td>\n",
       "      <td>http://youtube.com/channel/UCdrHrQf0o0TO8YDntX...</td>\n",
       "      <td>False</td>\n",
       "      <td>False</td>\n",
       "      <td>False</td>\n",
       "      <td>False</td>\n",
       "      <td>...</td>\n",
       "      <td>False</td>\n",
       "      <td>False</td>\n",
       "      <td>False</td>\n",
       "      <td>False</td>\n",
       "      <td>False</td>\n",
       "      <td>False</td>\n",
       "      <td>False</td>\n",
       "      <td>False</td>\n",
       "      <td>False</td>\n",
       "      <td>True</td>\n",
       "    </tr>\n",
       "    <tr>\n",
       "      <th>998</th>\n",
       "      <td>999</td>\n",
       "      <td>11700000.0</td>\n",
       "      <td>14000.0</td>\n",
       "      <td>81.0</td>\n",
       "      <td>1.0</td>\n",
       "      <td>http://youtube.com/channel/UCObyBrdrtQ20BU9PxH...</td>\n",
       "      <td>False</td>\n",
       "      <td>False</td>\n",
       "      <td>False</td>\n",
       "      <td>False</td>\n",
       "      <td>...</td>\n",
       "      <td>False</td>\n",
       "      <td>False</td>\n",
       "      <td>False</td>\n",
       "      <td>False</td>\n",
       "      <td>False</td>\n",
       "      <td>False</td>\n",
       "      <td>False</td>\n",
       "      <td>False</td>\n",
       "      <td>False</td>\n",
       "      <td>False</td>\n",
       "    </tr>\n",
       "    <tr>\n",
       "      <th>999</th>\n",
       "      <td>1000</td>\n",
       "      <td>11700000.0</td>\n",
       "      <td>2200.0</td>\n",
       "      <td>31.0</td>\n",
       "      <td>1.0</td>\n",
       "      <td>http://youtube.com/channel/UCOjgc1p2hJ4GZi6pQQ...</td>\n",
       "      <td>False</td>\n",
       "      <td>False</td>\n",
       "      <td>False</td>\n",
       "      <td>False</td>\n",
       "      <td>...</td>\n",
       "      <td>False</td>\n",
       "      <td>False</td>\n",
       "      <td>False</td>\n",
       "      <td>False</td>\n",
       "      <td>False</td>\n",
       "      <td>False</td>\n",
       "      <td>False</td>\n",
       "      <td>False</td>\n",
       "      <td>False</td>\n",
       "      <td>False</td>\n",
       "    </tr>\n",
       "  </tbody>\n",
       "</table>\n",
       "<p>1000 rows × 1071 columns</p>\n",
       "</div>"
      ],
      "text/plain": [
       "     Rank  Suscribers     Visits      Likes  Comments  \\\n",
       "0       1  38550000.0    86200.0     2700.0      78.0   \n",
       "1       2  38550000.0  2115725.0  5300000.0    1177.0   \n",
       "2       3  38550000.0  2115725.0    24700.0       0.0   \n",
       "3       4  38550000.0    15600.0      166.0       9.0   \n",
       "4       5  38550000.0  2115725.0    12400.0       0.0   \n",
       "..    ...         ...        ...        ...       ...   \n",
       "995   996  11700000.0   397400.0    14000.0     124.0   \n",
       "996   997  11700000.0  1100000.0    92500.0     164.0   \n",
       "997   998  11700000.0   211400.0      745.0       0.0   \n",
       "998   999  11700000.0    14000.0       81.0       1.0   \n",
       "999  1000  11700000.0     2200.0       31.0       1.0   \n",
       "\n",
       "                                                 Links  Username_123GOSpanish  \\\n",
       "0    http://youtube.com/channel/UCq-Fj5jknLsUf-MWSy...                  False   \n",
       "1    http://youtube.com/channel/UCX6OQ3DkcsbYNE6H8u...                  False   \n",
       "2    http://youtube.com/channel/UCbCmjCuTUZos6Inko4...                  False   \n",
       "3    http://youtube.com/channel/UCpEhnqL0y41EpW2TvW...                  False   \n",
       "4    http://youtube.com/channel/UCk8GzjMOrta8yxDcKf...                  False   \n",
       "..                                                 ...                    ...   \n",
       "995  http://youtube.com/channel/UCPKNKldggioffXPkSm...                  False   \n",
       "996  http://youtube.com/channel/UCk3fFpqI5kDMf__mUP...                  False   \n",
       "997  http://youtube.com/channel/UCdrHrQf0o0TO8YDntX...                  False   \n",
       "998  http://youtube.com/channel/UCObyBrdrtQ20BU9PxH...                  False   \n",
       "999  http://youtube.com/channel/UCOjgc1p2hJ4GZi6pQQ...                  False   \n",
       "\n",
       "     Username_123GO_  Username_1MILLION_Dance  Username_1theK  ...  \\\n",
       "0              False                    False           False  ...   \n",
       "1              False                    False           False  ...   \n",
       "2              False                    False           False  ...   \n",
       "3              False                    False           False  ...   \n",
       "4              False                    False           False  ...   \n",
       "..               ...                      ...             ...  ...   \n",
       "995            False                    False           False  ...   \n",
       "996            False                    False           False  ...   \n",
       "997            False                    False           False  ...   \n",
       "998            False                    False           False  ...   \n",
       "999            False                    False           False  ...   \n",
       "\n",
       "     Country_México  Country_Pakistán  Country_Perú  Country_Reino Unido  \\\n",
       "0             False             False         False                False   \n",
       "1             False             False         False                False   \n",
       "2             False             False         False                False   \n",
       "3             False             False         False                False   \n",
       "4             False             False         False                False   \n",
       "..              ...               ...           ...                  ...   \n",
       "995           False             False         False                False   \n",
       "996           False             False         False                False   \n",
       "997           False             False         False                False   \n",
       "998           False             False         False                False   \n",
       "999           False             False         False                False   \n",
       "\n",
       "     Country_Rusia  Country_Singapur  Country_Somalia  Country_Tailandia  \\\n",
       "0            False             False            False              False   \n",
       "1            False             False            False              False   \n",
       "2            False             False            False              False   \n",
       "3            False             False            False              False   \n",
       "4            False             False            False              False   \n",
       "..             ...               ...              ...                ...   \n",
       "995          False             False            False              False   \n",
       "996          False             False            False              False   \n",
       "997          False             False            False              False   \n",
       "998          False             False            False              False   \n",
       "999          False             False            False              False   \n",
       "\n",
       "     Country_Turquía  Country_Unknown  \n",
       "0              False            False  \n",
       "1              False            False  \n",
       "2              False             True  \n",
       "3              False            False  \n",
       "4              False             True  \n",
       "..               ...              ...  \n",
       "995            False            False  \n",
       "996            False            False  \n",
       "997            False             True  \n",
       "998            False            False  \n",
       "999            False            False  \n",
       "\n",
       "[1000 rows x 1071 columns]"
      ]
     },
     "execution_count": 51,
     "metadata": {},
     "output_type": "execute_result"
    }
   ],
   "source": [
    "dummy"
   ]
  }
 ],
 "metadata": {
  "kernelspec": {
   "display_name": "Python 3 (ipykernel)",
   "language": "python",
   "name": "python3"
  },
  "language_info": {
   "codemirror_mode": {
    "name": "ipython",
    "version": 3
   },
   "file_extension": ".py",
   "mimetype": "text/x-python",
   "name": "python",
   "nbconvert_exporter": "python",
   "pygments_lexer": "ipython3",
   "version": "3.12.3"
  }
 },
 "nbformat": 4,
 "nbformat_minor": 5
}
